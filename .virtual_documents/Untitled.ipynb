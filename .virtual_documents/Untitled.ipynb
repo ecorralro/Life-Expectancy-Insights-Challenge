# Lib import
import pandas as pd
import numpy as np
import matplotlib.pyplot as plt
import seaborn as sns
import charset_normalizer


with open("train.csv", 'rb') as rawdata:
    result = charset_normalizer.detect(rawdata.read(10000))
print(result)


df = pd.read_csv("train.csv", encoding = "utf-8")
df.head()



df.describe()













